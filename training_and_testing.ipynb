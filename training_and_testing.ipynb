{
 "cells": [
  {
   "cell_type": "markdown",
   "metadata": {},
   "source": [
    "# <center>DETECTION OF PHISHING WEBSITES USING ML"
   ]
  },
  {
   "cell_type": "markdown",
   "metadata": {},
   "source": [
    "---"
   ]
  },
  {
   "cell_type": "markdown",
   "metadata": {},
   "source": [
    "In the previous notebook, we extracted features from the dataset which we collected. Now, the objective of this project is to train machine learning models and deep neural nets on the dataset which we created in another notebook to predict phishing websites. After that the performance of each model is measured and compared with other models."
   ]
  },
  {
   "cell_type": "code",
   "execution_count": 1,
   "metadata": {},
   "outputs": [
    {
     "name": "stderr",
     "output_type": "stream",
     "text": [
      "C:\\Users\\Rahul Kumar\\Anaconda3\\lib\\site-packages\\statsmodels\\tools\\_testing.py:19: FutureWarning: pandas.util.testing is deprecated. Use the functions in the public API at pandas.testing instead.\n",
      "  import pandas.util.testing as tm\n"
     ]
    }
   ],
   "source": [
    "import numpy as np\n",
    "import pandas as pd\n",
    "import matplotlib.pyplot as plt\n",
    "import seaborn as sns"
   ]
  },
  {
   "cell_type": "markdown",
   "metadata": {},
   "source": [
    "## 1.Loading the dataset:"
   ]
  },
  {
   "cell_type": "code",
   "execution_count": 2,
   "metadata": {},
   "outputs": [
    {
     "data": {
      "text/html": [
       "<div>\n",
       "<style scoped>\n",
       "    .dataframe tbody tr th:only-of-type {\n",
       "        vertical-align: middle;\n",
       "    }\n",
       "\n",
       "    .dataframe tbody tr th {\n",
       "        vertical-align: top;\n",
       "    }\n",
       "\n",
       "    .dataframe thead th {\n",
       "        text-align: right;\n",
       "    }\n",
       "</style>\n",
       "<table border=\"1\" class=\"dataframe\">\n",
       "  <thead>\n",
       "    <tr style=\"text-align: right;\">\n",
       "      <th></th>\n",
       "      <th>Domain</th>\n",
       "      <th>Have_IP</th>\n",
       "      <th>Have_At</th>\n",
       "      <th>URL_Length</th>\n",
       "      <th>URL_Depth</th>\n",
       "      <th>Redirection</th>\n",
       "      <th>https_Domain</th>\n",
       "      <th>TinyURL</th>\n",
       "      <th>Prefix/Suffix</th>\n",
       "      <th>DNS_Record</th>\n",
       "      <th>Web_Traffic</th>\n",
       "      <th>Domain_Age</th>\n",
       "      <th>Domain_End</th>\n",
       "      <th>iFrame</th>\n",
       "      <th>Mouse_Over</th>\n",
       "      <th>Right_Click</th>\n",
       "      <th>Web_Forwards</th>\n",
       "      <th>Label</th>\n",
       "    </tr>\n",
       "  </thead>\n",
       "  <tbody>\n",
       "    <tr>\n",
       "      <th>0</th>\n",
       "      <td>graphicriver.net</td>\n",
       "      <td>0</td>\n",
       "      <td>0</td>\n",
       "      <td>1</td>\n",
       "      <td>1</td>\n",
       "      <td>0</td>\n",
       "      <td>0</td>\n",
       "      <td>0</td>\n",
       "      <td>0</td>\n",
       "      <td>0</td>\n",
       "      <td>1</td>\n",
       "      <td>1</td>\n",
       "      <td>1</td>\n",
       "      <td>0</td>\n",
       "      <td>0</td>\n",
       "      <td>1</td>\n",
       "      <td>0</td>\n",
       "      <td>0</td>\n",
       "    </tr>\n",
       "    <tr>\n",
       "      <th>1</th>\n",
       "      <td>ecnavi.jp</td>\n",
       "      <td>0</td>\n",
       "      <td>0</td>\n",
       "      <td>1</td>\n",
       "      <td>1</td>\n",
       "      <td>1</td>\n",
       "      <td>0</td>\n",
       "      <td>0</td>\n",
       "      <td>0</td>\n",
       "      <td>0</td>\n",
       "      <td>1</td>\n",
       "      <td>1</td>\n",
       "      <td>1</td>\n",
       "      <td>0</td>\n",
       "      <td>0</td>\n",
       "      <td>1</td>\n",
       "      <td>0</td>\n",
       "      <td>0</td>\n",
       "    </tr>\n",
       "    <tr>\n",
       "      <th>2</th>\n",
       "      <td>hubpages.com</td>\n",
       "      <td>0</td>\n",
       "      <td>0</td>\n",
       "      <td>1</td>\n",
       "      <td>1</td>\n",
       "      <td>0</td>\n",
       "      <td>0</td>\n",
       "      <td>0</td>\n",
       "      <td>0</td>\n",
       "      <td>0</td>\n",
       "      <td>1</td>\n",
       "      <td>0</td>\n",
       "      <td>0</td>\n",
       "      <td>0</td>\n",
       "      <td>0</td>\n",
       "      <td>1</td>\n",
       "      <td>0</td>\n",
       "      <td>0</td>\n",
       "    </tr>\n",
       "    <tr>\n",
       "      <th>3</th>\n",
       "      <td>extratorrent.cc</td>\n",
       "      <td>0</td>\n",
       "      <td>0</td>\n",
       "      <td>1</td>\n",
       "      <td>3</td>\n",
       "      <td>0</td>\n",
       "      <td>0</td>\n",
       "      <td>0</td>\n",
       "      <td>0</td>\n",
       "      <td>0</td>\n",
       "      <td>0</td>\n",
       "      <td>0</td>\n",
       "      <td>1</td>\n",
       "      <td>0</td>\n",
       "      <td>0</td>\n",
       "      <td>1</td>\n",
       "      <td>0</td>\n",
       "      <td>0</td>\n",
       "    </tr>\n",
       "    <tr>\n",
       "      <th>4</th>\n",
       "      <td>icicibank.com</td>\n",
       "      <td>0</td>\n",
       "      <td>0</td>\n",
       "      <td>1</td>\n",
       "      <td>3</td>\n",
       "      <td>0</td>\n",
       "      <td>0</td>\n",
       "      <td>0</td>\n",
       "      <td>0</td>\n",
       "      <td>0</td>\n",
       "      <td>1</td>\n",
       "      <td>0</td>\n",
       "      <td>1</td>\n",
       "      <td>0</td>\n",
       "      <td>0</td>\n",
       "      <td>1</td>\n",
       "      <td>0</td>\n",
       "      <td>0</td>\n",
       "    </tr>\n",
       "  </tbody>\n",
       "</table>\n",
       "</div>"
      ],
      "text/plain": [
       "             Domain  Have_IP  Have_At  URL_Length  URL_Depth  Redirection  \\\n",
       "0  graphicriver.net        0        0           1          1            0   \n",
       "1         ecnavi.jp        0        0           1          1            1   \n",
       "2      hubpages.com        0        0           1          1            0   \n",
       "3   extratorrent.cc        0        0           1          3            0   \n",
       "4     icicibank.com        0        0           1          3            0   \n",
       "\n",
       "   https_Domain  TinyURL  Prefix/Suffix  DNS_Record  Web_Traffic  Domain_Age  \\\n",
       "0             0        0              0           0            1           1   \n",
       "1             0        0              0           0            1           1   \n",
       "2             0        0              0           0            1           0   \n",
       "3             0        0              0           0            0           0   \n",
       "4             0        0              0           0            1           0   \n",
       "\n",
       "   Domain_End  iFrame  Mouse_Over  Right_Click  Web_Forwards  Label  \n",
       "0           1       0           0            1             0      0  \n",
       "1           1       0           0            1             0      0  \n",
       "2           0       0           0            1             0      0  \n",
       "3           1       0           0            1             0      0  \n",
       "4           1       0           0            1             0      0  "
      ]
     },
     "execution_count": 2,
     "metadata": {},
     "output_type": "execute_result"
    }
   ],
   "source": [
    "df = pd.read_csv('finaldata.csv')\n",
    "df.head()"
   ]
  },
  {
   "cell_type": "code",
   "execution_count": 3,
   "metadata": {},
   "outputs": [],
   "source": [
    "legit_url = pd.read_csv('legitimate.csv')\n",
    "phish_url = pd.read_csv('phishing.csv')"
   ]
  },
  {
   "cell_type": "code",
   "execution_count": 4,
   "metadata": {},
   "outputs": [
    {
     "data": {
      "text/plain": [
       "Index(['Domain', 'Have_IP', 'Have_At', 'URL_Length', 'URL_Depth',\n",
       "       'Redirection', 'https_Domain', 'TinyURL', 'Prefix/Suffix', 'DNS_Record',\n",
       "       'Web_Traffic', 'Domain_Age', 'Domain_End', 'iFrame', 'Mouse_Over',\n",
       "       'Right_Click', 'Web_Forwards', 'Label'],\n",
       "      dtype='object')"
      ]
     },
     "execution_count": 4,
     "metadata": {},
     "output_type": "execute_result"
    }
   ],
   "source": [
    "df.columns"
   ]
  },
  {
   "cell_type": "code",
   "execution_count": 5,
   "metadata": {},
   "outputs": [
    {
     "data": {
      "text/plain": [
       "(9719, 18)"
      ]
     },
     "execution_count": 5,
     "metadata": {},
     "output_type": "execute_result"
    }
   ],
   "source": [
    "df.shape"
   ]
  },
  {
   "cell_type": "code",
   "execution_count": 6,
   "metadata": {},
   "outputs": [
    {
     "data": {
      "text/html": [
       "<div>\n",
       "<style scoped>\n",
       "    .dataframe tbody tr th:only-of-type {\n",
       "        vertical-align: middle;\n",
       "    }\n",
       "\n",
       "    .dataframe tbody tr th {\n",
       "        vertical-align: top;\n",
       "    }\n",
       "\n",
       "    .dataframe thead th {\n",
       "        text-align: right;\n",
       "    }\n",
       "</style>\n",
       "<table border=\"1\" class=\"dataframe\">\n",
       "  <thead>\n",
       "    <tr style=\"text-align: right;\">\n",
       "      <th></th>\n",
       "      <th>Have_IP</th>\n",
       "      <th>Have_At</th>\n",
       "      <th>URL_Length</th>\n",
       "      <th>URL_Depth</th>\n",
       "      <th>Redirection</th>\n",
       "      <th>https_Domain</th>\n",
       "      <th>TinyURL</th>\n",
       "      <th>Prefix/Suffix</th>\n",
       "      <th>DNS_Record</th>\n",
       "      <th>Web_Traffic</th>\n",
       "      <th>Domain_Age</th>\n",
       "      <th>Domain_End</th>\n",
       "      <th>iFrame</th>\n",
       "      <th>Mouse_Over</th>\n",
       "      <th>Right_Click</th>\n",
       "      <th>Web_Forwards</th>\n",
       "      <th>Label</th>\n",
       "    </tr>\n",
       "  </thead>\n",
       "  <tbody>\n",
       "    <tr>\n",
       "      <th>count</th>\n",
       "      <td>9719.0</td>\n",
       "      <td>9719.000000</td>\n",
       "      <td>9719.000000</td>\n",
       "      <td>9719.000000</td>\n",
       "      <td>9719.000000</td>\n",
       "      <td>9719.0</td>\n",
       "      <td>9719.000000</td>\n",
       "      <td>9719.000000</td>\n",
       "      <td>9719.000000</td>\n",
       "      <td>9719.000000</td>\n",
       "      <td>9719.000000</td>\n",
       "      <td>9719.000000</td>\n",
       "      <td>9719.000000</td>\n",
       "      <td>9719.000000</td>\n",
       "      <td>9719.000000</td>\n",
       "      <td>9719.000000</td>\n",
       "      <td>9719.00000</td>\n",
       "    </tr>\n",
       "    <tr>\n",
       "      <th>mean</th>\n",
       "      <td>0.0</td>\n",
       "      <td>0.026855</td>\n",
       "      <td>0.712110</td>\n",
       "      <td>2.527112</td>\n",
       "      <td>0.015948</td>\n",
       "      <td>0.0</td>\n",
       "      <td>0.106698</td>\n",
       "      <td>0.126042</td>\n",
       "      <td>0.065542</td>\n",
       "      <td>0.836712</td>\n",
       "      <td>0.550057</td>\n",
       "      <td>0.854100</td>\n",
       "      <td>0.132112</td>\n",
       "      <td>0.120280</td>\n",
       "      <td>0.999897</td>\n",
       "      <td>0.160099</td>\n",
       "      <td>0.49254</td>\n",
       "    </tr>\n",
       "    <tr>\n",
       "      <th>std</th>\n",
       "      <td>0.0</td>\n",
       "      <td>0.161667</td>\n",
       "      <td>0.452803</td>\n",
       "      <td>2.133452</td>\n",
       "      <td>0.125281</td>\n",
       "      <td>0.0</td>\n",
       "      <td>0.308745</td>\n",
       "      <td>0.331914</td>\n",
       "      <td>0.247492</td>\n",
       "      <td>0.369648</td>\n",
       "      <td>0.497514</td>\n",
       "      <td>0.353024</td>\n",
       "      <td>0.338630</td>\n",
       "      <td>0.325305</td>\n",
       "      <td>0.010144</td>\n",
       "      <td>0.366717</td>\n",
       "      <td>0.49997</td>\n",
       "    </tr>\n",
       "    <tr>\n",
       "      <th>min</th>\n",
       "      <td>0.0</td>\n",
       "      <td>0.000000</td>\n",
       "      <td>0.000000</td>\n",
       "      <td>0.000000</td>\n",
       "      <td>0.000000</td>\n",
       "      <td>0.0</td>\n",
       "      <td>0.000000</td>\n",
       "      <td>0.000000</td>\n",
       "      <td>0.000000</td>\n",
       "      <td>0.000000</td>\n",
       "      <td>0.000000</td>\n",
       "      <td>0.000000</td>\n",
       "      <td>0.000000</td>\n",
       "      <td>0.000000</td>\n",
       "      <td>0.000000</td>\n",
       "      <td>0.000000</td>\n",
       "      <td>0.00000</td>\n",
       "    </tr>\n",
       "    <tr>\n",
       "      <th>25%</th>\n",
       "      <td>0.0</td>\n",
       "      <td>0.000000</td>\n",
       "      <td>0.000000</td>\n",
       "      <td>1.000000</td>\n",
       "      <td>0.000000</td>\n",
       "      <td>0.0</td>\n",
       "      <td>0.000000</td>\n",
       "      <td>0.000000</td>\n",
       "      <td>0.000000</td>\n",
       "      <td>1.000000</td>\n",
       "      <td>0.000000</td>\n",
       "      <td>1.000000</td>\n",
       "      <td>0.000000</td>\n",
       "      <td>0.000000</td>\n",
       "      <td>1.000000</td>\n",
       "      <td>0.000000</td>\n",
       "      <td>0.00000</td>\n",
       "    </tr>\n",
       "    <tr>\n",
       "      <th>50%</th>\n",
       "      <td>0.0</td>\n",
       "      <td>0.000000</td>\n",
       "      <td>1.000000</td>\n",
       "      <td>2.000000</td>\n",
       "      <td>0.000000</td>\n",
       "      <td>0.0</td>\n",
       "      <td>0.000000</td>\n",
       "      <td>0.000000</td>\n",
       "      <td>0.000000</td>\n",
       "      <td>1.000000</td>\n",
       "      <td>1.000000</td>\n",
       "      <td>1.000000</td>\n",
       "      <td>0.000000</td>\n",
       "      <td>0.000000</td>\n",
       "      <td>1.000000</td>\n",
       "      <td>0.000000</td>\n",
       "      <td>0.00000</td>\n",
       "    </tr>\n",
       "    <tr>\n",
       "      <th>75%</th>\n",
       "      <td>0.0</td>\n",
       "      <td>0.000000</td>\n",
       "      <td>1.000000</td>\n",
       "      <td>4.000000</td>\n",
       "      <td>0.000000</td>\n",
       "      <td>0.0</td>\n",
       "      <td>0.000000</td>\n",
       "      <td>0.000000</td>\n",
       "      <td>0.000000</td>\n",
       "      <td>1.000000</td>\n",
       "      <td>1.000000</td>\n",
       "      <td>1.000000</td>\n",
       "      <td>0.000000</td>\n",
       "      <td>0.000000</td>\n",
       "      <td>1.000000</td>\n",
       "      <td>0.000000</td>\n",
       "      <td>1.00000</td>\n",
       "    </tr>\n",
       "    <tr>\n",
       "      <th>max</th>\n",
       "      <td>0.0</td>\n",
       "      <td>1.000000</td>\n",
       "      <td>1.000000</td>\n",
       "      <td>18.000000</td>\n",
       "      <td>1.000000</td>\n",
       "      <td>0.0</td>\n",
       "      <td>1.000000</td>\n",
       "      <td>1.000000</td>\n",
       "      <td>1.000000</td>\n",
       "      <td>1.000000</td>\n",
       "      <td>1.000000</td>\n",
       "      <td>1.000000</td>\n",
       "      <td>1.000000</td>\n",
       "      <td>1.000000</td>\n",
       "      <td>1.000000</td>\n",
       "      <td>1.000000</td>\n",
       "      <td>1.00000</td>\n",
       "    </tr>\n",
       "  </tbody>\n",
       "</table>\n",
       "</div>"
      ],
      "text/plain": [
       "       Have_IP      Have_At   URL_Length    URL_Depth  Redirection  \\\n",
       "count   9719.0  9719.000000  9719.000000  9719.000000  9719.000000   \n",
       "mean       0.0     0.026855     0.712110     2.527112     0.015948   \n",
       "std        0.0     0.161667     0.452803     2.133452     0.125281   \n",
       "min        0.0     0.000000     0.000000     0.000000     0.000000   \n",
       "25%        0.0     0.000000     0.000000     1.000000     0.000000   \n",
       "50%        0.0     0.000000     1.000000     2.000000     0.000000   \n",
       "75%        0.0     0.000000     1.000000     4.000000     0.000000   \n",
       "max        0.0     1.000000     1.000000    18.000000     1.000000   \n",
       "\n",
       "       https_Domain      TinyURL  Prefix/Suffix   DNS_Record  Web_Traffic  \\\n",
       "count        9719.0  9719.000000    9719.000000  9719.000000  9719.000000   \n",
       "mean            0.0     0.106698       0.126042     0.065542     0.836712   \n",
       "std             0.0     0.308745       0.331914     0.247492     0.369648   \n",
       "min             0.0     0.000000       0.000000     0.000000     0.000000   \n",
       "25%             0.0     0.000000       0.000000     0.000000     1.000000   \n",
       "50%             0.0     0.000000       0.000000     0.000000     1.000000   \n",
       "75%             0.0     0.000000       0.000000     0.000000     1.000000   \n",
       "max             0.0     1.000000       1.000000     1.000000     1.000000   \n",
       "\n",
       "        Domain_Age   Domain_End       iFrame   Mouse_Over  Right_Click  \\\n",
       "count  9719.000000  9719.000000  9719.000000  9719.000000  9719.000000   \n",
       "mean      0.550057     0.854100     0.132112     0.120280     0.999897   \n",
       "std       0.497514     0.353024     0.338630     0.325305     0.010144   \n",
       "min       0.000000     0.000000     0.000000     0.000000     0.000000   \n",
       "25%       0.000000     1.000000     0.000000     0.000000     1.000000   \n",
       "50%       1.000000     1.000000     0.000000     0.000000     1.000000   \n",
       "75%       1.000000     1.000000     0.000000     0.000000     1.000000   \n",
       "max       1.000000     1.000000     1.000000     1.000000     1.000000   \n",
       "\n",
       "       Web_Forwards       Label  \n",
       "count   9719.000000  9719.00000  \n",
       "mean       0.160099     0.49254  \n",
       "std        0.366717     0.49997  \n",
       "min        0.000000     0.00000  \n",
       "25%        0.000000     0.00000  \n",
       "50%        0.000000     0.00000  \n",
       "75%        0.000000     1.00000  \n",
       "max        1.000000     1.00000  "
      ]
     },
     "execution_count": 6,
     "metadata": {},
     "output_type": "execute_result"
    }
   ],
   "source": [
    "df.describe()"
   ]
  },
  {
   "cell_type": "markdown",
   "metadata": {},
   "source": [
    "* The above obtained result shows that the most of the data is made of 0's & 1's except 'Domain' & 'URL_Depth' columns."
   ]
  },
  {
   "cell_type": "code",
   "execution_count": 7,
   "metadata": {},
   "outputs": [
    {
     "data": {
      "text/plain": [
       "Domain           0\n",
       "Have_IP          0\n",
       "Have_At          0\n",
       "URL_Length       0\n",
       "URL_Depth        0\n",
       "Redirection      0\n",
       "https_Domain     0\n",
       "TinyURL          0\n",
       "Prefix/Suffix    0\n",
       "DNS_Record       0\n",
       "Web_Traffic      0\n",
       "Domain_Age       0\n",
       "Domain_End       0\n",
       "iFrame           0\n",
       "Mouse_Over       0\n",
       "Right_Click      0\n",
       "Web_Forwards     0\n",
       "Label            0\n",
       "dtype: int64"
      ]
     },
     "execution_count": 7,
     "metadata": {},
     "output_type": "execute_result"
    }
   ],
   "source": [
    "df.isnull().sum()"
   ]
  },
  {
   "cell_type": "code",
   "execution_count": 8,
   "metadata": {},
   "outputs": [
    {
     "name": "stdout",
     "output_type": "stream",
     "text": [
      "<class 'pandas.core.frame.DataFrame'>\n",
      "RangeIndex: 9719 entries, 0 to 9718\n",
      "Data columns (total 18 columns):\n",
      " #   Column         Non-Null Count  Dtype \n",
      "---  ------         --------------  ----- \n",
      " 0   Domain         9719 non-null   object\n",
      " 1   Have_IP        9719 non-null   int64 \n",
      " 2   Have_At        9719 non-null   int64 \n",
      " 3   URL_Length     9719 non-null   int64 \n",
      " 4   URL_Depth      9719 non-null   int64 \n",
      " 5   Redirection    9719 non-null   int64 \n",
      " 6   https_Domain   9719 non-null   int64 \n",
      " 7   TinyURL        9719 non-null   int64 \n",
      " 8   Prefix/Suffix  9719 non-null   int64 \n",
      " 9   DNS_Record     9719 non-null   int64 \n",
      " 10  Web_Traffic    9719 non-null   int64 \n",
      " 11  Domain_Age     9719 non-null   int64 \n",
      " 12  Domain_End     9719 non-null   int64 \n",
      " 13  iFrame         9719 non-null   int64 \n",
      " 14  Mouse_Over     9719 non-null   int64 \n",
      " 15  Right_Click    9719 non-null   int64 \n",
      " 16  Web_Forwards   9719 non-null   int64 \n",
      " 17  Label          9719 non-null   int64 \n",
      "dtypes: int64(17), object(1)\n",
      "memory usage: 1.3+ MB\n"
     ]
    }
   ],
   "source": [
    "df.info()"
   ]
  },
  {
   "cell_type": "markdown",
   "metadata": {},
   "source": [
    "## 2.Visualizing the data:"
   ]
  },
  {
   "cell_type": "code",
   "execution_count": 9,
   "metadata": {},
   "outputs": [
    {
     "data": {
      "image/png": "[encoded data removed]",
      "text/plain": [
       "<Figure size 1080x1080 with 25 Axes>"
      ]
     },
     "metadata": {
      "needs_background": "light"
     },
     "output_type": "display_data"
    }
   ],
   "source": [
    "df.plot.hist(subplots=True,layout=(5,5),figsize=(15, 15), range=(0,1), bins=20)\n",
    "plt.show()"
   ]
  },
  {
   "cell_type": "code",
   "execution_count": 10,
   "metadata": {},
   "outputs": [
    {
     "data": {
      "text/plain": [
       "<matplotlib.axes._subplots.AxesSubplot at 0x19afeb37308>"
      ]
     },
     "execution_count": 10,
     "metadata": {},
     "output_type": "execute_result"
    },
    {
     "data": {
      "image/png": "[encoded data removed]",
      "text/plain": [
       "<Figure size 1080x1080 with 2 Axes>"
      ]
     },
     "metadata": {
      "needs_background": "light"
     },
     "output_type": "display_data"
    }
   ],
   "source": [
    "plt.figure(figsize=(15,15))\n",
    "sns.heatmap(df.corr(), annot=True, cmap=\"YlGnBu\", linewidths=.5)\n",
    "#plt.savefig('corr.png')"
   ]
  },
  {
   "cell_type": "code",
   "execution_count": 11,
   "metadata": {},
   "outputs": [],
   "source": [
    "#phish_url['URL_Depth'].value_counts().sort_index().plot(kind='barh', figsize=(10,7), color='c')"
   ]
  },
  {
   "cell_type": "code",
   "execution_count": 12,
   "metadata": {},
   "outputs": [
    {
     "data": {
      "image/png": "[encoded data removed]",
      "text/plain": [
       "<Figure size 1080x504 with 2 Axes>"
      ]
     },
     "metadata": {
      "needs_background": "light"
     },
     "output_type": "display_data"
    }
   ],
   "source": [
    "plt.figure(figsize=(15,7))\n",
    "plt.subplot(1,2,1)\n",
    "phish_url['URL_Depth'].value_counts().sort_index().plot(kind='bar')\n",
    "plt.xlabel('Depth in Phishing URLs')\n",
    "plt.subplot(1,2,2)\n",
    "legit_url['URL_Depth'].value_counts().sort_index().plot(kind='bar')\n",
    "plt.xlabel('Depth in Legitimate URLs')\n",
    "plt.tight_layout()"
   ]
  },
  {
   "cell_type": "markdown",
   "metadata": {},
   "source": [
    "* Clearly, we can see that phishing URLs has very few depth compared to legitimate URLs."
   ]
  },
  {
   "cell_type": "code",
   "execution_count": 16,
   "metadata": {},
   "outputs": [
    {
     "data": {
      "text/plain": [
       "<matplotlib.axes._subplots.AxesSubplot at 0x19afdfb4c48>"
      ]
     },
     "execution_count": 16,
     "metadata": {},
     "output_type": "execute_result"
    },
    {
     "data": {
      "image/png": "[encoded data removed]",
      "text/plain": [
       "<Figure size 432x288 with 1 Axes>"
      ]
     },
     "metadata": {
      "needs_background": "light"
     },
     "output_type": "display_data"
    }
   ],
   "source": [
    "sns.countplot(x='Label',data=df,palette='RdBu_r')"
   ]
  },
  {
   "cell_type": "markdown",
   "metadata": {},
   "source": [
    "* We have around 5000 phishing and 5000 legitimate URLs.\n",
    "* So from above plot we can see that we have balanced data."
   ]
  },
  {
   "cell_type": "markdown",
   "metadata": {},
   "source": [
    "## 3.Data Preprocessing:"
   ]
  },
  {
   "cell_type": "markdown",
   "metadata": {},
   "source": [
    "* The Domain column doesn't have any significance to the machine learning model training. So we are dropping the 'Domain' column from the dataset."
   ]
  },
  {
   "cell_type": "code",
   "execution_count": 17,
   "metadata": {},
   "outputs": [],
   "source": [
    "df2 = df.drop(['Domain'], axis = 1).copy()"
   ]
  },
  {
   "cell_type": "markdown",
   "metadata": {},
   "source": [
    "* Now, we have 16 features left.\n",
    "* In the previous notebook we extracted features and created a final dataset in which top half rows were legitimate URLs and bottom half where phishing URLs.\n",
    "* For even distribution while splitting the data into training and testing sets, we need to shuffle it."
   ]
  },
  {
   "cell_type": "code",
   "execution_count": 18,
   "metadata": {},
   "outputs": [
    {
     "data": {
      "text/html": [
       "<div>\n",
       "<style scoped>\n",
       "    .dataframe tbody tr th:only-of-type {\n",
       "        vertical-align: middle;\n",
       "    }\n",
       "\n",
       "    .dataframe tbody tr th {\n",
       "        vertical-align: top;\n",
       "    }\n",
       "\n",
       "    .dataframe thead th {\n",
       "        text-align: right;\n",
       "    }\n",
       "</style>\n",
       "<table border=\"1\" class=\"dataframe\">\n",
       "  <thead>\n",
       "    <tr style=\"text-align: right;\">\n",
       "      <th></th>\n",
       "      <th>Have_IP</th>\n",
       "      <th>Have_At</th>\n",
       "      <th>URL_Length</th>\n",
       "      <th>URL_Depth</th>\n",
       "      <th>Redirection</th>\n",
       "      <th>https_Domain</th>\n",
       "      <th>TinyURL</th>\n",
       "      <th>Prefix/Suffix</th>\n",
       "      <th>DNS_Record</th>\n",
       "      <th>Web_Traffic</th>\n",
       "      <th>Domain_Age</th>\n",
       "      <th>Domain_End</th>\n",
       "      <th>iFrame</th>\n",
       "      <th>Mouse_Over</th>\n",
       "      <th>Right_Click</th>\n",
       "      <th>Web_Forwards</th>\n",
       "      <th>Label</th>\n",
       "    </tr>\n",
       "  </thead>\n",
       "  <tbody>\n",
       "    <tr>\n",
       "      <th>0</th>\n",
       "      <td>0</td>\n",
       "      <td>0</td>\n",
       "      <td>1</td>\n",
       "      <td>2</td>\n",
       "      <td>0</td>\n",
       "      <td>0</td>\n",
       "      <td>0</td>\n",
       "      <td>0</td>\n",
       "      <td>0</td>\n",
       "      <td>0</td>\n",
       "      <td>1</td>\n",
       "      <td>1</td>\n",
       "      <td>0</td>\n",
       "      <td>0</td>\n",
       "      <td>1</td>\n",
       "      <td>0</td>\n",
       "      <td>0</td>\n",
       "    </tr>\n",
       "    <tr>\n",
       "      <th>1</th>\n",
       "      <td>0</td>\n",
       "      <td>0</td>\n",
       "      <td>1</td>\n",
       "      <td>2</td>\n",
       "      <td>0</td>\n",
       "      <td>0</td>\n",
       "      <td>0</td>\n",
       "      <td>0</td>\n",
       "      <td>0</td>\n",
       "      <td>1</td>\n",
       "      <td>1</td>\n",
       "      <td>1</td>\n",
       "      <td>0</td>\n",
       "      <td>0</td>\n",
       "      <td>1</td>\n",
       "      <td>0</td>\n",
       "      <td>0</td>\n",
       "    </tr>\n",
       "    <tr>\n",
       "      <th>2</th>\n",
       "      <td>0</td>\n",
       "      <td>0</td>\n",
       "      <td>0</td>\n",
       "      <td>4</td>\n",
       "      <td>0</td>\n",
       "      <td>0</td>\n",
       "      <td>0</td>\n",
       "      <td>0</td>\n",
       "      <td>0</td>\n",
       "      <td>1</td>\n",
       "      <td>0</td>\n",
       "      <td>1</td>\n",
       "      <td>0</td>\n",
       "      <td>0</td>\n",
       "      <td>1</td>\n",
       "      <td>0</td>\n",
       "      <td>1</td>\n",
       "    </tr>\n",
       "    <tr>\n",
       "      <th>3</th>\n",
       "      <td>0</td>\n",
       "      <td>0</td>\n",
       "      <td>1</td>\n",
       "      <td>2</td>\n",
       "      <td>0</td>\n",
       "      <td>0</td>\n",
       "      <td>0</td>\n",
       "      <td>0</td>\n",
       "      <td>0</td>\n",
       "      <td>1</td>\n",
       "      <td>0</td>\n",
       "      <td>0</td>\n",
       "      <td>1</td>\n",
       "      <td>1</td>\n",
       "      <td>1</td>\n",
       "      <td>1</td>\n",
       "      <td>1</td>\n",
       "    </tr>\n",
       "    <tr>\n",
       "      <th>4</th>\n",
       "      <td>0</td>\n",
       "      <td>0</td>\n",
       "      <td>1</td>\n",
       "      <td>4</td>\n",
       "      <td>0</td>\n",
       "      <td>0</td>\n",
       "      <td>0</td>\n",
       "      <td>1</td>\n",
       "      <td>0</td>\n",
       "      <td>1</td>\n",
       "      <td>0</td>\n",
       "      <td>0</td>\n",
       "      <td>1</td>\n",
       "      <td>1</td>\n",
       "      <td>1</td>\n",
       "      <td>1</td>\n",
       "      <td>1</td>\n",
       "    </tr>\n",
       "  </tbody>\n",
       "</table>\n",
       "</div>"
      ],
      "text/plain": [
       "   Have_IP  Have_At  URL_Length  URL_Depth  Redirection  https_Domain  \\\n",
       "0        0        0           1          2            0             0   \n",
       "1        0        0           1          2            0             0   \n",
       "2        0        0           0          4            0             0   \n",
       "3        0        0           1          2            0             0   \n",
       "4        0        0           1          4            0             0   \n",
       "\n",
       "   TinyURL  Prefix/Suffix  DNS_Record  Web_Traffic  Domain_Age  Domain_End  \\\n",
       "0        0              0           0            0           1           1   \n",
       "1        0              0           0            1           1           1   \n",
       "2        0              0           0            1           0           1   \n",
       "3        0              0           0            1           0           0   \n",
       "4        0              1           0            1           0           0   \n",
       "\n",
       "   iFrame  Mouse_Over  Right_Click  Web_Forwards  Label  \n",
       "0       0           0            1             0      0  \n",
       "1       0           0            1             0      0  \n",
       "2       0           0            1             0      1  \n",
       "3       1           1            1             1      1  \n",
       "4       1           1            1             1      1  "
      ]
     },
     "execution_count": 18,
     "metadata": {},
     "output_type": "execute_result"
    }
   ],
   "source": [
    "df3 = df2.sample(frac=1).reset_index(drop=True)\n",
    "df3.head()"
   ]
  },
  {
   "cell_type": "markdown",
   "metadata": {},
   "source": [
    "* Now data is throughly preprocessed and ready for training."
   ]
  },
  {
   "cell_type": "markdown",
   "metadata": {},
   "source": [
    "## 4.Spliting into training and testing"
   ]
  },
  {
   "cell_type": "code",
   "execution_count": 20,
   "metadata": {},
   "outputs": [],
   "source": [
    "X = df3.drop('Label',axis=1)\n",
    "y = df3['Label']"
   ]
  },
  {
   "cell_type": "code",
   "execution_count": 21,
   "metadata": {},
   "outputs": [],
   "source": [
    "from sklearn.model_selection import train_test_split\n",
    "\n",
    "X_train, X_test, y_train, y_test=train_test_split(X, y, test_size=0.2,random_state=10)"
   ]
  },
  {
   "cell_type": "code",
   "execution_count": 22,
   "metadata": {},
   "outputs": [
    {
     "data": {
      "text/plain": [
       "((7775, 16), (1944, 16))"
      ]
     },
     "execution_count": 22,
     "metadata": {},
     "output_type": "execute_result"
    }
   ],
   "source": [
    "X_train.shape, X_test.shape"
   ]
  },
  {
   "cell_type": "markdown",
   "metadata": {},
   "source": [
    "## 5.Model Building"
   ]
  },
  {
   "cell_type": "code",
   "execution_count": 23,
   "metadata": {},
   "outputs": [],
   "source": [
    "accuracies = {}"
   ]
  },
  {
   "cell_type": "code",
   "execution_count": 24,
   "metadata": {},
   "outputs": [],
   "source": [
    "def find_accuracy(classifier, pred):\n",
    "    print(\"Accuracy Score:\")\n",
    "    print(accuracy_score(y_test, pred))\n",
    "\n",
    "    print(\"\\nConfusion Matrix: \")\n",
    "    print(confusion_matrix(y_test, pred))\n",
    "\n",
    "    print(\"\\nClassification Report: \")\n",
    "    print(classification_report(y_test, pred))\n",
    "    \n",
    "    accuracies[classifier] = accuracy_score(y_test, pred)*100"
   ]
  },
  {
   "cell_type": "markdown",
   "metadata": {},
   "source": [
    "### 5.1.Logistic Regression:"
   ]
  },
  {
   "cell_type": "code",
   "execution_count": 25,
   "metadata": {},
   "outputs": [],
   "source": [
    "from sklearn.linear_model import LogisticRegression\n",
    "from sklearn.metrics import accuracy_score,confusion_matrix,classification_report"
   ]
  },
  {
   "cell_type": "code",
   "execution_count": 26,
   "metadata": {},
   "outputs": [
    {
     "name": "stderr",
     "output_type": "stream",
     "text": [
      "C:\\Users\\Rahul Kumar\\Anaconda3\\lib\\site-packages\\sklearn\\linear_model\\logistic.py:432: FutureWarning: Default solver will be changed to 'lbfgs' in 0.22. Specify a solver to silence this warning.\n",
      "  FutureWarning)\n"
     ]
    },
    {
     "name": "stdout",
     "output_type": "stream",
     "text": [
      "Accuracy Score:\n",
      "0.8662551440329218\n",
      "\n",
      "Confusion Matrix: \n",
      "[[988  12]\n",
      " [248 696]]\n",
      "\n",
      "Classification Report: \n",
      "              precision    recall  f1-score   support\n",
      "\n",
      "           0       0.80      0.99      0.88      1000\n",
      "           1       0.98      0.74      0.84       944\n",
      "\n",
      "    accuracy                           0.87      1944\n",
      "   macro avg       0.89      0.86      0.86      1944\n",
      "weighted avg       0.89      0.87      0.86      1944\n",
      "\n"
     ]
    }
   ],
   "source": [
    "lr = LogisticRegression()\n",
    "lr.fit(X_train, y_train)\n",
    "lr_pred = lr.predict(X_test)\n",
    "\n",
    "find_accuracy('Logistic Regression', lr_pred)"
   ]
  },
  {
   "cell_type": "markdown",
   "metadata": {},
   "source": [
    "### 5.2.K-Nearest Neighbours"
   ]
  },
  {
   "cell_type": "code",
   "execution_count": 27,
   "metadata": {},
   "outputs": [],
   "source": [
    "from sklearn.neighbors import KNeighborsClassifier"
   ]
  },
  {
   "cell_type": "code",
   "execution_count": 28,
   "metadata": {},
   "outputs": [
    {
     "name": "stdout",
     "output_type": "stream",
     "text": [
      "Accuracy Score:\n",
      "0.8842592592592593\n",
      "\n",
      "Confusion Matrix: \n",
      "[[919  81]\n",
      " [144 800]]\n",
      "\n",
      "Classification Report: \n",
      "              precision    recall  f1-score   support\n",
      "\n",
      "           0       0.86      0.92      0.89      1000\n",
      "           1       0.91      0.85      0.88       944\n",
      "\n",
      "    accuracy                           0.88      1944\n",
      "   macro avg       0.89      0.88      0.88      1944\n",
      "weighted avg       0.89      0.88      0.88      1944\n",
      "\n"
     ]
    }
   ],
   "source": [
    "knn = KNeighborsClassifier(n_neighbors= 1)\n",
    "knn.fit(X_train, y_train)\n",
    "knn_pred = knn.predict(X_test)\n",
    "\n",
    "find_accuracy('KNN', knn_pred)"
   ]
  },
  {
   "cell_type": "markdown",
   "metadata": {},
   "source": [
    "#### Analysing the Error rate with K values"
   ]
  },
  {
   "cell_type": "code",
   "execution_count": 29,
   "metadata": {},
   "outputs": [],
   "source": [
    "error_rate = []\n",
    "\n",
    "for i in range(1,40):\n",
    "    \n",
    "    knn = KNeighborsClassifier(n_neighbors=i)\n",
    "    knn.fit(X_train,y_train)\n",
    "    pred_i = knn.predict(X_test)\n",
    "    error_rate.append(np.mean(pred_i != y_test))"
   ]
  },
  {
   "cell_type": "code",
   "execution_count": 30,
   "metadata": {},
   "outputs": [
    {
     "data": {
      "text/plain": [
       "Text(0, 0.5, 'Error Rate')"
      ]
     },
     "execution_count": 30,
     "metadata": {},
     "output_type": "execute_result"
    },
    {
     "data": {
      "image/png": "[encoded data removed]",
      "text/plain": [
       "<Figure size 720x432 with 1 Axes>"
      ]
     },
     "metadata": {
      "needs_background": "light"
     },
     "output_type": "display_data"
    }
   ],
   "source": [
    "plt.figure(figsize=(10,6))\n",
    "plt.plot(range(1,40),error_rate,color='blue', linestyle='dashed', marker='o',markerfacecolor='red', markersize=10)\n",
    "plt.title('Error Rate vs. K Value')\n",
    "plt.xlabel('K')\n",
    "plt.ylabel('Error Rate')"
   ]
  },
  {
   "cell_type": "markdown",
   "metadata": {},
   "source": [
    "* Here we can see that at K=4 error rate is low. Let's retrain the model with that and check the classification report."
   ]
  },
  {
   "cell_type": "code",
   "execution_count": 31,
   "metadata": {},
   "outputs": [
    {
     "name": "stdout",
     "output_type": "stream",
     "text": [
      "Accuracy Score:\n",
      "0.8955761316872428\n",
      "\n",
      "Confusion Matrix: \n",
      "[[966  34]\n",
      " [169 775]]\n",
      "\n",
      "Classification Report: \n",
      "              precision    recall  f1-score   support\n",
      "\n",
      "           0       0.85      0.97      0.90      1000\n",
      "           1       0.96      0.82      0.88       944\n",
      "\n",
      "    accuracy                           0.90      1944\n",
      "   macro avg       0.90      0.89      0.89      1944\n",
      "weighted avg       0.90      0.90      0.89      1944\n",
      "\n"
     ]
    }
   ],
   "source": [
    "knn = KNeighborsClassifier(n_neighbors=4)\n",
    "knn.fit(X_train,y_train)\n",
    "knn_pred = knn.predict(X_test)\n",
    "\n",
    "find_accuracy('KNN', knn_pred)"
   ]
  },
  {
   "cell_type": "markdown",
   "metadata": {},
   "source": [
    "* We got better accuracy in KNN when we used parameter 'n_neighbors=4' after analysing the error rate with different k values."
   ]
  },
  {
   "cell_type": "markdown",
   "metadata": {},
   "source": [
    "### 5.3.Decision Tree Classifier"
   ]
  },
  {
   "cell_type": "code",
   "execution_count": 32,
   "metadata": {},
   "outputs": [],
   "source": [
    "from sklearn.tree import DecisionTreeClassifier"
   ]
  },
  {
   "cell_type": "code",
   "execution_count": 33,
   "metadata": {},
   "outputs": [
    {
     "name": "stdout",
     "output_type": "stream",
     "text": [
      "Accuracy Score:\n",
      "0.8796296296296297\n",
      "\n",
      "Confusion Matrix: \n",
      "[[995   5]\n",
      " [229 715]]\n",
      "\n",
      "Classification Report: \n",
      "              precision    recall  f1-score   support\n",
      "\n",
      "           0       0.81      0.99      0.89      1000\n",
      "           1       0.99      0.76      0.86       944\n",
      "\n",
      "    accuracy                           0.88      1944\n",
      "   macro avg       0.90      0.88      0.88      1944\n",
      "weighted avg       0.90      0.88      0.88      1944\n",
      "\n"
     ]
    }
   ],
   "source": [
    "dtc = DecisionTreeClassifier()\n",
    "dtc.fit(X_train, y_train)\n",
    "dtc_pred = dtc.predict(X_test)\n",
    "\n",
    "find_accuracy('Decision Tree', dtc_pred)"
   ]
  },
  {
   "cell_type": "code",
   "execution_count": 34,
   "metadata": {},
   "outputs": [
    {
     "data": {
      "image/png": "[encoded data removed]",
      "text/plain": [
       "<Figure size 648x504 with 1 Axes>"
      ]
     },
     "metadata": {
      "needs_background": "light"
     },
     "output_type": "display_data"
    }
   ],
   "source": [
    "plt.figure(figsize=(9,7))\n",
    "n_features = X_train.shape[1]\n",
    "plt.barh(range(n_features), dtc.feature_importances_, align='center')\n",
    "plt.yticks(np.arange(n_features), X_train.columns)\n",
    "plt.xlabel(\"Feature importance\")\n",
    "plt.ylabel(\"Feature\")\n",
    "plt.show()"
   ]
  },
  {
   "cell_type": "markdown",
   "metadata": {},
   "source": [
    "### 5.4.Random Forest Classifier"
   ]
  },
  {
   "cell_type": "code",
   "execution_count": 35,
   "metadata": {},
   "outputs": [],
   "source": [
    "from sklearn.ensemble import RandomForestClassifier"
   ]
  },
  {
   "cell_type": "code",
   "execution_count": 36,
   "metadata": {},
   "outputs": [
    {
     "name": "stdout",
     "output_type": "stream",
     "text": [
      "Accuracy Score:\n",
      "0.9068930041152263\n",
      "\n",
      "Confusion Matrix: \n",
      "[[953  47]\n",
      " [134 810]]\n",
      "\n",
      "Classification Report: \n",
      "              precision    recall  f1-score   support\n",
      "\n",
      "           0       0.88      0.95      0.91      1000\n",
      "           1       0.95      0.86      0.90       944\n",
      "\n",
      "    accuracy                           0.91      1944\n",
      "   macro avg       0.91      0.91      0.91      1944\n",
      "weighted avg       0.91      0.91      0.91      1944\n",
      "\n"
     ]
    }
   ],
   "source": [
    "rfc = RandomForestClassifier(n_estimators=100)\n",
    "rfc.fit(X_train, y_train)\n",
    "rfc_pred = rfc.predict(X_test)\n",
    "\n",
    "find_accuracy('Random Forest', rfc_pred)"
   ]
  },
  {
   "cell_type": "code",
   "execution_count": 37,
   "metadata": {},
   "outputs": [
    {
     "data": {
      "image/png": "[encoded data removed]",
      "text/plain": [
       "<Figure size 648x504 with 1 Axes>"
      ]
     },
     "metadata": {
      "needs_background": "light"
     },
     "output_type": "display_data"
    }
   ],
   "source": [
    "plt.figure(figsize=(9,7))\n",
    "n_features = X_train.shape[1]\n",
    "plt.barh(range(n_features), rfc.feature_importances_, align='center')\n",
    "plt.yticks(np.arange(n_features), X_train.columns)\n",
    "plt.xlabel(\"Feature importance\")\n",
    "plt.ylabel(\"Feature\")\n",
    "plt.show()"
   ]
  },
  {
   "cell_type": "markdown",
   "metadata": {},
   "source": [
    "### 5.5.Support Vector Machines"
   ]
  },
  {
   "cell_type": "code",
   "execution_count": 38,
   "metadata": {},
   "outputs": [],
   "source": [
    "from sklearn.svm import SVC"
   ]
  },
  {
   "cell_type": "code",
   "execution_count": 39,
   "metadata": {},
   "outputs": [
    {
     "name": "stderr",
     "output_type": "stream",
     "text": [
      "C:\\Users\\Rahul Kumar\\Anaconda3\\lib\\site-packages\\sklearn\\svm\\base.py:193: FutureWarning: The default value of gamma will change from 'auto' to 'scale' in version 0.22 to account better for unscaled features. Set gamma explicitly to 'auto' or 'scale' to avoid this warning.\n",
      "  \"avoid this warning.\", FutureWarning)\n"
     ]
    },
    {
     "name": "stdout",
     "output_type": "stream",
     "text": [
      "Accuracy Score:\n",
      "0.8688271604938271\n",
      "\n",
      "Confusion Matrix: \n",
      "[[987  13]\n",
      " [242 702]]\n",
      "\n",
      "Classification Report: \n",
      "              precision    recall  f1-score   support\n",
      "\n",
      "           0       0.80      0.99      0.89      1000\n",
      "           1       0.98      0.74      0.85       944\n",
      "\n",
      "    accuracy                           0.87      1944\n",
      "   macro avg       0.89      0.87      0.87      1944\n",
      "weighted avg       0.89      0.87      0.87      1944\n",
      "\n"
     ]
    }
   ],
   "source": [
    "svm = SVC()\n",
    "svm.fit(X_train, y_train)\n",
    "svm_pred = svm.predict(X_test)\n",
    "\n",
    "find_accuracy('SVM', svm_pred)"
   ]
  },
  {
   "cell_type": "markdown",
   "metadata": {},
   "source": [
    "### 5.6.XGBoost Classifier"
   ]
  },
  {
   "cell_type": "code",
   "execution_count": 40,
   "metadata": {},
   "outputs": [],
   "source": [
    "from xgboost import XGBClassifier"
   ]
  },
  {
   "cell_type": "code",
   "execution_count": 41,
   "metadata": {},
   "outputs": [
    {
     "name": "stdout",
     "output_type": "stream",
     "text": [
      "Accuracy Score:\n",
      "0.9068930041152263\n",
      "\n",
      "Confusion Matrix: \n",
      "[[953  47]\n",
      " [134 810]]\n",
      "\n",
      "Classification Report: \n",
      "              precision    recall  f1-score   support\n",
      "\n",
      "           0       0.88      0.95      0.91      1000\n",
      "           1       0.95      0.86      0.90       944\n",
      "\n",
      "    accuracy                           0.91      1944\n",
      "   macro avg       0.91      0.91      0.91      1944\n",
      "weighted avg       0.91      0.91      0.91      1944\n",
      "\n"
     ]
    }
   ],
   "source": [
    "xgb = XGBClassifier()\n",
    "xgb.fit(X_train, y_train)\n",
    "xgb_pred = xgb.predict(X_test)\n",
    "\n",
    "find_accuracy('XGBoost', xgb_pred)"
   ]
  },
  {
   "cell_type": "markdown",
   "metadata": {},
   "source": [
    "### 5.7.Multilayer Perceptrons:"
   ]
  },
  {
   "cell_type": "code",
   "execution_count": 42,
   "metadata": {},
   "outputs": [],
   "source": [
    "from sklearn.neural_network import MLPClassifier"
   ]
  },
  {
   "cell_type": "code",
   "execution_count": 43,
   "metadata": {},
   "outputs": [
    {
     "name": "stdout",
     "output_type": "stream",
     "text": [
      "Accuracy Score:\n",
      "0.9022633744855967\n",
      "\n",
      "Confusion Matrix: \n",
      "[[985  15]\n",
      " [175 769]]\n",
      "\n",
      "Classification Report: \n",
      "              precision    recall  f1-score   support\n",
      "\n",
      "           0       0.85      0.98      0.91      1000\n",
      "           1       0.98      0.81      0.89       944\n",
      "\n",
      "    accuracy                           0.90      1944\n",
      "   macro avg       0.92      0.90      0.90      1944\n",
      "weighted avg       0.91      0.90      0.90      1944\n",
      "\n"
     ]
    }
   ],
   "source": [
    "mlp = MLPClassifier(hidden_layer_sizes=([150,100,50]), \n",
    "                    max_iter = 300, \n",
    "                    activation = 'relu', \n",
    "                    solver = 'adam', random_state=1)\n",
    "mlp.fit(X_train, y_train)\n",
    "mlp_pred = mlp.predict(X_test)\n",
    "\n",
    "find_accuracy('Multilayer Perceptrons', mlp_pred)"
   ]
  },
  {
   "cell_type": "markdown",
   "metadata": {},
   "source": [
    "### 5.8.Artificial Neural Network"
   ]
  },
  {
   "cell_type": "code",
   "execution_count": 44,
   "metadata": {},
   "outputs": [],
   "source": [
    "import tensorflow as tf"
   ]
  },
  {
   "cell_type": "code",
   "execution_count": 45,
   "metadata": {},
   "outputs": [],
   "source": [
    "ann = tf.keras.models.Sequential()"
   ]
  },
  {
   "cell_type": "code",
   "execution_count": 46,
   "metadata": {},
   "outputs": [],
   "source": [
    "ann.add(tf.keras.layers.Dense(units=8, activation='relu'))\n",
    "ann.add(tf.keras.layers.Dense(units=8, activation='relu'))\n",
    "\n",
    "ann.add(tf.keras.layers.Dense(units=1, activation='sigmoid'))"
   ]
  },
  {
   "cell_type": "code",
   "execution_count": 47,
   "metadata": {},
   "outputs": [],
   "source": [
    "ann.compile(optimizer = 'adam', loss = 'binary_crossentropy', metrics = ['accuracy'])"
   ]
  },
  {
   "cell_type": "code",
   "execution_count": 48,
   "metadata": {
    "scrolled": true
   },
   "outputs": [
    {
     "name": "stdout",
     "output_type": "stream",
     "text": [
      "Epoch 1/100\n",
      "243/243 [==============================] - 2s 2ms/step - loss: 0.6087 - accuracy: 0.7096\n",
      "Epoch 2/100\n",
      "243/243 [==============================] - 1s 4ms/step - loss: 0.4423 - accuracy: 0.8124\n",
      "Epoch 3/100\n",
      "243/243 [==============================] - 1s 3ms/step - loss: 0.3576 - accuracy: 0.8662\n",
      "Epoch 4/100\n",
      "243/243 [==============================] - 1s 2ms/step - loss: 0.3235 - accuracy: 0.8727\n",
      "Epoch 5/100\n",
      "243/243 [==============================] - 1s 4ms/step - loss: 0.3181 - accuracy: 0.8683\n",
      "Epoch 6/100\n",
      "243/243 [==============================] - 1s 4ms/step - loss: 0.3076 - accuracy: 0.8742\n",
      "Epoch 7/100\n",
      "243/243 [==============================] - 1s 2ms/step - loss: 0.2989 - accuracy: 0.8808\n",
      "Epoch 8/100\n",
      "243/243 [==============================] - 1s 3ms/step - loss: 0.3016 - accuracy: 0.8751\n",
      "Epoch 9/100\n",
      "243/243 [==============================] - 1s 2ms/step - loss: 0.3031 - accuracy: 0.8746\n",
      "Epoch 10/100\n",
      "243/243 [==============================] - 1s 3ms/step - loss: 0.3043 - accuracy: 0.8690\n",
      "Epoch 11/100\n",
      "243/243 [==============================] - 1s 3ms/step - loss: 0.2980 - accuracy: 0.8734\n",
      "Epoch 12/100\n",
      "243/243 [==============================] - 1s 4ms/step - loss: 0.2990 - accuracy: 0.8754\n",
      "Epoch 13/100\n",
      "243/243 [==============================] - 1s 4ms/step - loss: 0.2971 - accuracy: 0.8744\n",
      "Epoch 14/100\n",
      "243/243 [==============================] - 1s 4ms/step - loss: 0.3061 - accuracy: 0.8666\n",
      "Epoch 15/100\n",
      "243/243 [==============================] - 1s 3ms/step - loss: 0.2944 - accuracy: 0.8757\n",
      "Epoch 16/100\n",
      "243/243 [==============================] - 1s 2ms/step - loss: 0.2920 - accuracy: 0.8744\n",
      "Epoch 17/100\n",
      "243/243 [==============================] - 1s 2ms/step - loss: 0.2960 - accuracy: 0.8752\n",
      "Epoch 18/100\n",
      "243/243 [==============================] - 1s 3ms/step - loss: 0.2984 - accuracy: 0.8738\n",
      "Epoch 19/100\n",
      "243/243 [==============================] - 1s 3ms/step - loss: 0.2944 - accuracy: 0.8766\n",
      "Epoch 20/100\n",
      "243/243 [==============================] - 1s 4ms/step - loss: 0.2959 - accuracy: 0.8808\n",
      "Epoch 21/100\n",
      "243/243 [==============================] - 1s 4ms/step - loss: 0.2991 - accuracy: 0.8743\n",
      "Epoch 22/100\n",
      "243/243 [==============================] - 1s 3ms/step - loss: 0.2847 - accuracy: 0.8827\n",
      "Epoch 23/100\n",
      "243/243 [==============================] - 1s 4ms/step - loss: 0.2916 - accuracy: 0.8835\n",
      "Epoch 24/100\n",
      "243/243 [==============================] - 1s 3ms/step - loss: 0.2901 - accuracy: 0.8800\n",
      "Epoch 25/100\n",
      "243/243 [==============================] - 1s 4ms/step - loss: 0.2811 - accuracy: 0.8881\n",
      "Epoch 26/100\n",
      "243/243 [==============================] - 1s 3ms/step - loss: 0.2848 - accuracy: 0.8863\n",
      "Epoch 27/100\n",
      "243/243 [==============================] - 1s 3ms/step - loss: 0.2907 - accuracy: 0.8801\n",
      "Epoch 28/100\n",
      "243/243 [==============================] - 1s 2ms/step - loss: 0.2832 - accuracy: 0.8887\n",
      "Epoch 29/100\n",
      "243/243 [==============================] - 1s 3ms/step - loss: 0.2902 - accuracy: 0.8778\n",
      "Epoch 30/100\n",
      "243/243 [==============================] - 1s 2ms/step - loss: 0.2822 - accuracy: 0.8803\n",
      "Epoch 31/100\n",
      "243/243 [==============================] - 1s 2ms/step - loss: 0.2831 - accuracy: 0.8862\n",
      "Epoch 32/100\n",
      "243/243 [==============================] - 1s 3ms/step - loss: 0.2836 - accuracy: 0.8865\n",
      "Epoch 33/100\n",
      "243/243 [==============================] - 1s 4ms/step - loss: 0.2822 - accuracy: 0.8886\n",
      "Epoch 34/100\n",
      "243/243 [==============================] - 1s 3ms/step - loss: 0.2886 - accuracy: 0.8822\n",
      "Epoch 35/100\n",
      "243/243 [==============================] - 1s 4ms/step - loss: 0.2796 - accuracy: 0.8898\n",
      "Epoch 36/100\n",
      "243/243 [==============================] - 1s 3ms/step - loss: 0.2952 - accuracy: 0.8746\n",
      "Epoch 37/100\n",
      "243/243 [==============================] - 1s 3ms/step - loss: 0.2817 - accuracy: 0.8873\n",
      "Epoch 38/100\n",
      "243/243 [==============================] - 1s 2ms/step - loss: 0.2879 - accuracy: 0.8812\n",
      "Epoch 39/100\n",
      "243/243 [==============================] - 1s 3ms/step - loss: 0.2807 - accuracy: 0.8877\n",
      "Epoch 40/100\n",
      "243/243 [==============================] - 1s 4ms/step - loss: 0.2854 - accuracy: 0.8856\n",
      "Epoch 41/100\n",
      "243/243 [==============================] - 1s 3ms/step - loss: 0.2799 - accuracy: 0.8894: 0s - loss: 0\n",
      "Epoch 42/100\n",
      "243/243 [==============================] - 1s 3ms/step - loss: 0.2864 - accuracy: 0.8811\n",
      "Epoch 43/100\n",
      "243/243 [==============================] - 1s 3ms/step - loss: 0.2812 - accuracy: 0.8841\n",
      "Epoch 44/100\n",
      "243/243 [==============================] - 1s 4ms/step - loss: 0.2897 - accuracy: 0.8827\n",
      "Epoch 45/100\n",
      "243/243 [==============================] - 1s 3ms/step - loss: 0.2668 - accuracy: 0.8927\n",
      "Epoch 46/100\n",
      "243/243 [==============================] - 1s 3ms/step - loss: 0.2816 - accuracy: 0.8865\n",
      "Epoch 47/100\n",
      "243/243 [==============================] - 1s 3ms/step - loss: 0.2862 - accuracy: 0.8828\n",
      "Epoch 48/100\n",
      "243/243 [==============================] - 1s 2ms/step - loss: 0.2866 - accuracy: 0.8793\n",
      "Epoch 49/100\n",
      "243/243 [==============================] - 1s 3ms/step - loss: 0.2850 - accuracy: 0.8811\n",
      "Epoch 50/100\n",
      "243/243 [==============================] - ETA: 0s - loss: 0.2755 - accuracy: 0.88 - 1s 4ms/step - loss: 0.2755 - accuracy: 0.8853\n",
      "Epoch 51/100\n",
      "243/243 [==============================] - 1s 2ms/step - loss: 0.2845 - accuracy: 0.8848\n",
      "Epoch 52/100\n",
      "243/243 [==============================] - 1s 3ms/step - loss: 0.2825 - accuracy: 0.8838\n",
      "Epoch 53/100\n",
      "243/243 [==============================] - 1s 4ms/step - loss: 0.2814 - accuracy: 0.8897\n",
      "Epoch 54/100\n",
      "243/243 [==============================] - 1s 4ms/step - loss: 0.2786 - accuracy: 0.8865\n",
      "Epoch 55/100\n",
      "243/243 [==============================] - ETA: 0s - loss: 0.2883 - accuracy: 0.88 - 1s 2ms/step - loss: 0.2881 - accuracy: 0.8810\n",
      "Epoch 56/100\n",
      "243/243 [==============================] - 1s 3ms/step - loss: 0.2792 - accuracy: 0.8876\n",
      "Epoch 57/100\n",
      "243/243 [==============================] - 1s 3ms/step - loss: 0.2918 - accuracy: 0.8775\n",
      "Epoch 58/100\n",
      "243/243 [==============================] - 1s 3ms/step - loss: 0.2793 - accuracy: 0.8855\n",
      "Epoch 59/100\n",
      "243/243 [==============================] - 1s 3ms/step - loss: 0.2820 - accuracy: 0.8838\n",
      "Epoch 60/100\n",
      "243/243 [==============================] - 1s 4ms/step - loss: 0.2823 - accuracy: 0.8845\n",
      "Epoch 61/100\n",
      "243/243 [==============================] - 1s 4ms/step - loss: 0.2854 - accuracy: 0.8829\n",
      "Epoch 62/100\n",
      "243/243 [==============================] - 1s 4ms/step - loss: 0.2855 - accuracy: 0.8859\n",
      "Epoch 63/100\n",
      "243/243 [==============================] - 1s 4ms/step - loss: 0.2720 - accuracy: 0.8918\n",
      "Epoch 64/100\n",
      "243/243 [==============================] - 1s 4ms/step - loss: 0.2855 - accuracy: 0.8814\n",
      "Epoch 65/100\n",
      "243/243 [==============================] - 1s 2ms/step - loss: 0.2864 - accuracy: 0.8806\n",
      "Epoch 66/100\n",
      "243/243 [==============================] - 1s 3ms/step - loss: 0.2703 - accuracy: 0.8879\n",
      "Epoch 67/100\n",
      "243/243 [==============================] - 1s 2ms/step - loss: 0.2802 - accuracy: 0.8867\n",
      "Epoch 68/100\n",
      "243/243 [==============================] - 1s 3ms/step - loss: 0.2868 - accuracy: 0.8822\n",
      "Epoch 69/100\n",
      "243/243 [==============================] - 1s 4ms/step - loss: 0.2786 - accuracy: 0.8862\n",
      "Epoch 70/100\n",
      "243/243 [==============================] - 1s 4ms/step - loss: 0.2908 - accuracy: 0.8767\n",
      "Epoch 71/100\n",
      "243/243 [==============================] - 1s 4ms/step - loss: 0.2814 - accuracy: 0.8884\n",
      "Epoch 72/100\n",
      "243/243 [==============================] - 1s 3ms/step - loss: 0.2828 - accuracy: 0.8846\n",
      "Epoch 73/100\n",
      "243/243 [==============================] - 1s 4ms/step - loss: 0.2847 - accuracy: 0.8866\n",
      "Epoch 74/100\n",
      "243/243 [==============================] - 1s 3ms/step - loss: 0.2857 - accuracy: 0.8842\n",
      "Epoch 75/100\n",
      "243/243 [==============================] - 1s 3ms/step - loss: 0.2812 - accuracy: 0.8890\n",
      "Epoch 76/100\n",
      "243/243 [==============================] - 1s 2ms/step - loss: 0.2730 - accuracy: 0.8887\n",
      "Epoch 77/100\n",
      "243/243 [==============================] - 1s 3ms/step - loss: 0.2834 - accuracy: 0.8852\n",
      "Epoch 78/100\n",
      "243/243 [==============================] - 1s 3ms/step - loss: 0.2761 - accuracy: 0.8893\n",
      "Epoch 79/100\n",
      "243/243 [==============================] - 1s 4ms/step - loss: 0.2838 - accuracy: 0.8829\n",
      "Epoch 80/100\n",
      "243/243 [==============================] - 1s 3ms/step - loss: 0.2775 - accuracy: 0.8876\n",
      "Epoch 81/100\n",
      "243/243 [==============================] - 1s 4ms/step - loss: 0.2797 - accuracy: 0.8853\n",
      "Epoch 82/100\n",
      "243/243 [==============================] - 1s 4ms/step - loss: 0.2821 - accuracy: 0.8854\n",
      "Epoch 83/100\n",
      "243/243 [==============================] - 1s 4ms/step - loss: 0.2730 - accuracy: 0.8891\n",
      "Epoch 84/100\n",
      "243/243 [==============================] - 1s 3ms/step - loss: 0.2857 - accuracy: 0.8837\n",
      "Epoch 85/100\n",
      "243/243 [==============================] - 1s 3ms/step - loss: 0.2778 - accuracy: 0.8860\n",
      "Epoch 86/100\n",
      "243/243 [==============================] - 1s 3ms/step - loss: 0.2806 - accuracy: 0.8847\n",
      "Epoch 87/100\n",
      "243/243 [==============================] - 1s 3ms/step - loss: 0.2801 - accuracy: 0.8848\n",
      "Epoch 88/100\n",
      "243/243 [==============================] - 1s 3ms/step - loss: 0.2784 - accuracy: 0.8866\n",
      "Epoch 89/100\n",
      "243/243 [==============================] - 1s 3ms/step - loss: 0.2822 - accuracy: 0.8825\n",
      "Epoch 90/100\n",
      "243/243 [==============================] - 1s 3ms/step - loss: 0.2853 - accuracy: 0.8858\n",
      "Epoch 91/100\n",
      "243/243 [==============================] - 1s 3ms/step - loss: 0.2865 - accuracy: 0.8820\n",
      "Epoch 92/100\n",
      "243/243 [==============================] - 1s 3ms/step - loss: 0.2756 - accuracy: 0.8885\n",
      "Epoch 93/100\n",
      "243/243 [==============================] - 1s 3ms/step - loss: 0.2794 - accuracy: 0.8855\n",
      "Epoch 94/100\n",
      "243/243 [==============================] - 1s 3ms/step - loss: 0.2749 - accuracy: 0.8891\n",
      "Epoch 95/100\n",
      "243/243 [==============================] - 1s 3ms/step - loss: 0.2800 - accuracy: 0.8824\n",
      "Epoch 96/100\n",
      "243/243 [==============================] - 1s 4ms/step - loss: 0.2891 - accuracy: 0.8804\n",
      "Epoch 97/100\n",
      "243/243 [==============================] - 1s 4ms/step - loss: 0.2847 - accuracy: 0.8849\n",
      "Epoch 98/100\n",
      "243/243 [==============================] - 1s 3ms/step - loss: 0.2870 - accuracy: 0.8834\n",
      "Epoch 99/100\n",
      "243/243 [==============================] - 1s 3ms/step - loss: 0.2764 - accuracy: 0.8874\n",
      "Epoch 100/100\n",
      "243/243 [==============================] - 1s 4ms/step - loss: 0.2728 - accuracy: 0.8898\n"
     ]
    },
    {
     "data": {
      "text/plain": [
       "<tensorflow.python.keras.callbacks.History at 0x19ab1d86d48>"
      ]
     },
     "execution_count": 48,
     "metadata": {},
     "output_type": "execute_result"
    }
   ],
   "source": [
    "ann.fit(X_train, y_train, batch_size = 32, epochs = 100)"
   ]
  },
  {
   "cell_type": "code",
   "execution_count": 57,
   "metadata": {},
   "outputs": [
    {
     "name": "stdout",
     "output_type": "stream",
     "text": [
      "Accuracy Score:\n",
      "0.88940329218107\n",
      "\n",
      "Confusion Matrix: \n",
      "[[983  17]\n",
      " [198 746]]\n",
      "\n",
      "Classification Report: \n",
      "              precision    recall  f1-score   support\n",
      "\n",
      "           0       0.83      0.98      0.90      1000\n",
      "           1       0.98      0.79      0.87       944\n",
      "\n",
      "    accuracy                           0.89      1944\n",
      "   macro avg       0.91      0.89      0.89      1944\n",
      "weighted avg       0.90      0.89      0.89      1944\n",
      "\n"
     ]
    }
   ],
   "source": [
    "ann_pred = ann.predict(X_test)\n",
    "ann_pred = (ann_pred > 0.5)\n",
    "\n",
    "find_accuracy('ANN', ann_pred)"
   ]
  },
  {
   "cell_type": "markdown",
   "metadata": {},
   "source": [
    "## 5.9.Ensemle Learning"
   ]
  },
  {
   "cell_type": "markdown",
   "metadata": {},
   "source": [
    "### 5.9.1.Bagging"
   ]
  },
  {
   "cell_type": "code",
   "execution_count": 58,
   "metadata": {},
   "outputs": [],
   "source": [
    "from sklearn.ensemble import BaggingClassifier"
   ]
  },
  {
   "cell_type": "code",
   "execution_count": 59,
   "metadata": {},
   "outputs": [
    {
     "name": "stdout",
     "output_type": "stream",
     "text": [
      "Accuracy Score:\n",
      "0.9084362139917695\n",
      "\n",
      "Confusion Matrix: \n",
      "[[956  44]\n",
      " [134 810]]\n",
      "\n",
      "Classification Report: \n",
      "              precision    recall  f1-score   support\n",
      "\n",
      "           0       0.88      0.96      0.91      1000\n",
      "           1       0.95      0.86      0.90       944\n",
      "\n",
      "    accuracy                           0.91      1944\n",
      "   macro avg       0.91      0.91      0.91      1944\n",
      "weighted avg       0.91      0.91      0.91      1944\n",
      "\n"
     ]
    }
   ],
   "source": [
    "bc = BaggingClassifier(DecisionTreeClassifier(random_state=1))\n",
    "bc.fit(X_train, y_train)\n",
    "bc_pred = bc.predict(X_test)\n",
    "\n",
    "find_accuracy('Ensemble - Bagging', bc_pred)"
   ]
  },
  {
   "cell_type": "markdown",
   "metadata": {},
   "source": [
    "### 5.9.2.Voting"
   ]
  },
  {
   "cell_type": "code",
   "execution_count": 60,
   "metadata": {},
   "outputs": [],
   "source": [
    "from sklearn.ensemble import VotingClassifier"
   ]
  },
  {
   "cell_type": "code",
   "execution_count": 62,
   "metadata": {},
   "outputs": [
    {
     "name": "stderr",
     "output_type": "stream",
     "text": [
      "C:\\Users\\Rahul Kumar\\Anaconda3\\lib\\site-packages\\sklearn\\linear_model\\logistic.py:432: FutureWarning: Default solver will be changed to 'lbfgs' in 0.22. Specify a solver to silence this warning.\n",
      "  FutureWarning)\n",
      "C:\\Users\\Rahul Kumar\\Anaconda3\\lib\\site-packages\\sklearn\\svm\\base.py:193: FutureWarning: The default value of gamma will change from 'auto' to 'scale' in version 0.22 to account better for unscaled features. Set gamma explicitly to 'auto' or 'scale' to avoid this warning.\n",
      "  \"avoid this warning.\", FutureWarning)\n"
     ]
    },
    {
     "name": "stdout",
     "output_type": "stream",
     "text": [
      "Accuracy Score:\n",
      "0.9063786008230452\n",
      "\n",
      "Confusion Matrix: \n",
      "[[964  36]\n",
      " [146 798]]\n",
      "\n",
      "Classification Report: \n",
      "              precision    recall  f1-score   support\n",
      "\n",
      "           0       0.87      0.96      0.91      1000\n",
      "           1       0.96      0.85      0.90       944\n",
      "\n",
      "    accuracy                           0.91      1944\n",
      "   macro avg       0.91      0.90      0.91      1944\n",
      "weighted avg       0.91      0.91      0.91      1944\n",
      "\n"
     ]
    }
   ],
   "source": [
    "estimator = [('lr', lr), ('knn', knn), ('dtc', dtc), ('rfc', rfc), ('svm', svm), ('xgb', xgb), ('mlp', mlp)]\n",
    "vc = VotingClassifier(estimators=estimator, voting='hard')\n",
    "vc.fit(X_train,y_train)\n",
    "vc_pred = vc.predict(X_test)\n",
    "\n",
    "find_accuracy('Ensemble - Voting', vc_pred)"
   ]
  },
  {
   "cell_type": "markdown",
   "metadata": {},
   "source": [
    "## 6.Comparision of Models"
   ]
  },
  {
   "cell_type": "code",
   "execution_count": 63,
   "metadata": {},
   "outputs": [
    {
     "data": {
      "image/png": "[encoded data removed]",
      "text/plain": [
       "<Figure size 576x576 with 1 Axes>"
      ]
     },
     "metadata": {
      "needs_background": "light"
     },
     "output_type": "display_data"
    }
   ],
   "source": [
    "plt.figure(figsize=(8,8))\n",
    "plt.yticks(np.arange(0,1200,10))\n",
    "plt.ylabel(\"Accuracy %\")\n",
    "plt.xlabel(\"Algorithms\")\n",
    "plt.xticks(rotation = 90)\n",
    "sns.barplot(x=list(accuracies.keys()), y=list(accuracies.values()))\n",
    "plt.show()"
   ]
  },
  {
   "cell_type": "code",
   "execution_count": 64,
   "metadata": {},
   "outputs": [
    {
     "data": {
      "text/html": [
       "<div>\n",
       "<style scoped>\n",
       "    .dataframe tbody tr th:only-of-type {\n",
       "        vertical-align: middle;\n",
       "    }\n",
       "\n",
       "    .dataframe tbody tr th {\n",
       "        vertical-align: top;\n",
       "    }\n",
       "\n",
       "    .dataframe thead th {\n",
       "        text-align: right;\n",
       "    }\n",
       "</style>\n",
       "<table border=\"1\" class=\"dataframe\">\n",
       "  <thead>\n",
       "    <tr style=\"text-align: right;\">\n",
       "      <th></th>\n",
       "      <th>Model</th>\n",
       "      <th>Accuracy</th>\n",
       "    </tr>\n",
       "  </thead>\n",
       "  <tbody>\n",
       "    <tr>\n",
       "      <th>0</th>\n",
       "      <td>Logistic Regression</td>\n",
       "      <td>86.625514</td>\n",
       "    </tr>\n",
       "    <tr>\n",
       "      <th>1</th>\n",
       "      <td>KNN</td>\n",
       "      <td>89.557613</td>\n",
       "    </tr>\n",
       "    <tr>\n",
       "      <th>2</th>\n",
       "      <td>Decision Tree</td>\n",
       "      <td>87.962963</td>\n",
       "    </tr>\n",
       "    <tr>\n",
       "      <th>3</th>\n",
       "      <td>Random Forest</td>\n",
       "      <td>90.689300</td>\n",
       "    </tr>\n",
       "    <tr>\n",
       "      <th>4</th>\n",
       "      <td>SVM</td>\n",
       "      <td>86.882716</td>\n",
       "    </tr>\n",
       "    <tr>\n",
       "      <th>5</th>\n",
       "      <td>XGBoost</td>\n",
       "      <td>90.689300</td>\n",
       "    </tr>\n",
       "    <tr>\n",
       "      <th>6</th>\n",
       "      <td>Multilayer Perceptrons</td>\n",
       "      <td>90.226337</td>\n",
       "    </tr>\n",
       "    <tr>\n",
       "      <th>7</th>\n",
       "      <td>ANN</td>\n",
       "      <td>88.940329</td>\n",
       "    </tr>\n",
       "    <tr>\n",
       "      <th>8</th>\n",
       "      <td>Ensemble - Bagging</td>\n",
       "      <td>90.843621</td>\n",
       "    </tr>\n",
       "    <tr>\n",
       "      <th>9</th>\n",
       "      <td>Ensemble - Voting</td>\n",
       "      <td>90.637860</td>\n",
       "    </tr>\n",
       "  </tbody>\n",
       "</table>\n",
       "</div>"
      ],
      "text/plain": [
       "                    Model   Accuracy\n",
       "0     Logistic Regression  86.625514\n",
       "1                     KNN  89.557613\n",
       "2           Decision Tree  87.962963\n",
       "3           Random Forest  90.689300\n",
       "4                     SVM  86.882716\n",
       "5                 XGBoost  90.689300\n",
       "6  Multilayer Perceptrons  90.226337\n",
       "7                     ANN  88.940329\n",
       "8      Ensemble - Bagging  90.843621\n",
       "9       Ensemble - Voting  90.637860"
      ]
     },
     "execution_count": 64,
     "metadata": {},
     "output_type": "execute_result"
    }
   ],
   "source": [
    "model = []\n",
    "acc = []\n",
    "for x in accuracies:\n",
    "    model.append(x)\n",
    "    acc.append(accuracies[x])\n",
    "d = pd.DataFrame({'Model': model, 'Accuracy': acc})\n",
    "d"
   ]
  },
  {
   "cell_type": "code",
   "execution_count": 65,
   "metadata": {},
   "outputs": [
    {
     "data": {
      "text/html": [
       "<div>\n",
       "<style scoped>\n",
       "    .dataframe tbody tr th:only-of-type {\n",
       "        vertical-align: middle;\n",
       "    }\n",
       "\n",
       "    .dataframe tbody tr th {\n",
       "        vertical-align: top;\n",
       "    }\n",
       "\n",
       "    .dataframe thead th {\n",
       "        text-align: right;\n",
       "    }\n",
       "</style>\n",
       "<table border=\"1\" class=\"dataframe\">\n",
       "  <thead>\n",
       "    <tr style=\"text-align: right;\">\n",
       "      <th></th>\n",
       "      <th>Model</th>\n",
       "      <th>Accuracy</th>\n",
       "    </tr>\n",
       "  </thead>\n",
       "  <tbody>\n",
       "    <tr>\n",
       "      <th>8</th>\n",
       "      <td>Ensemble - Bagging</td>\n",
       "      <td>90.843621</td>\n",
       "    </tr>\n",
       "    <tr>\n",
       "      <th>3</th>\n",
       "      <td>Random Forest</td>\n",
       "      <td>90.689300</td>\n",
       "    </tr>\n",
       "    <tr>\n",
       "      <th>5</th>\n",
       "      <td>XGBoost</td>\n",
       "      <td>90.689300</td>\n",
       "    </tr>\n",
       "    <tr>\n",
       "      <th>9</th>\n",
       "      <td>Ensemble - Voting</td>\n",
       "      <td>90.637860</td>\n",
       "    </tr>\n",
       "    <tr>\n",
       "      <th>6</th>\n",
       "      <td>Multilayer Perceptrons</td>\n",
       "      <td>90.226337</td>\n",
       "    </tr>\n",
       "    <tr>\n",
       "      <th>1</th>\n",
       "      <td>KNN</td>\n",
       "      <td>89.557613</td>\n",
       "    </tr>\n",
       "    <tr>\n",
       "      <th>7</th>\n",
       "      <td>ANN</td>\n",
       "      <td>88.940329</td>\n",
       "    </tr>\n",
       "    <tr>\n",
       "      <th>2</th>\n",
       "      <td>Decision Tree</td>\n",
       "      <td>87.962963</td>\n",
       "    </tr>\n",
       "    <tr>\n",
       "      <th>4</th>\n",
       "      <td>SVM</td>\n",
       "      <td>86.882716</td>\n",
       "    </tr>\n",
       "    <tr>\n",
       "      <th>0</th>\n",
       "      <td>Logistic Regression</td>\n",
       "      <td>86.625514</td>\n",
       "    </tr>\n",
       "  </tbody>\n",
       "</table>\n",
       "</div>"
      ],
      "text/plain": [
       "                    Model   Accuracy\n",
       "8      Ensemble - Bagging  90.843621\n",
       "3           Random Forest  90.689300\n",
       "5                 XGBoost  90.689300\n",
       "9       Ensemble - Voting  90.637860\n",
       "6  Multilayer Perceptrons  90.226337\n",
       "1                     KNN  89.557613\n",
       "7                     ANN  88.940329\n",
       "2           Decision Tree  87.962963\n",
       "4                     SVM  86.882716\n",
       "0     Logistic Regression  86.625514"
      ]
     },
     "execution_count": 65,
     "metadata": {},
     "output_type": "execute_result"
    }
   ],
   "source": [
    "d.sort_values(by=['Accuracy'], ascending=False)"
   ]
  },
  {
   "cell_type": "markdown",
   "metadata": {},
   "source": [
    "* From above comparison, we can see that Ensemble Learning works well with this dataset.\n",
    "* Bagging Classifier gave better detection accuracy of 90.84 in comparison with all other algorithms."
   ]
  },
  {
   "cell_type": "code",
   "execution_count": 68,
   "metadata": {},
   "outputs": [],
   "source": [
    "# import pickle\n",
    "# pickle.dump(bc, open(\"BaggingClassifier.pickle.dat\", \"wb\"))"
   ]
  },
  {
   "cell_type": "code",
   "execution_count": 70,
   "metadata": {},
   "outputs": [],
   "source": [
    "import pickle\n",
    "with open('BaggingClassifier.pickle','wb') as f:\n",
    "    pickle.dump(bc,f)"
   ]
  },
  {
   "cell_type": "code",
   "execution_count": 74,
   "metadata": {},
   "outputs": [],
   "source": [
    "with open('BaggingClassifier.pickle', 'rb') as f:\n",
    "        pred = pickle.load(f)"
   ]
  },
  {
   "cell_type": "code",
   "execution_count": 80,
   "metadata": {},
   "outputs": [
    {
     "data": {
      "text/plain": [
       "BaggingClassifier(base_estimator=DecisionTreeClassifier(class_weight=None,\n",
       "                                                        criterion='gini',\n",
       "                                                        max_depth=None,\n",
       "                                                        max_features=None,\n",
       "                                                        max_leaf_nodes=None,\n",
       "                                                        min_impurity_decrease=0.0,\n",
       "                                                        min_impurity_split=None,\n",
       "                                                        min_samples_leaf=1,\n",
       "                                                        min_samples_split=2,\n",
       "                                                        min_weight_fraction_leaf=0.0,\n",
       "                                                        presort=False,\n",
       "                                                        random_state=1,\n",
       "                                                        splitter='best'),\n",
       "                  bootstrap=True, bootstrap_features=False, max_features=1.0,\n",
       "                  max_samples=1.0, n_estimators=10, n_jobs=None,\n",
       "                  oob_score=False, random_state=None, verbose=0,\n",
       "                  warm_start=False)"
      ]
     },
     "execution_count": 80,
     "metadata": {},
     "output_type": "execute_result"
    }
   ],
   "source": [
    "pred"
   ]
  },
  {
   "cell_type": "code",
   "execution_count": 83,
   "metadata": {},
   "outputs": [
    {
     "name": "stdout",
     "output_type": "stream",
     "text": [
      "1\n"
     ]
    }
   ],
   "source": [
    "x = np.array([0,0,0,4,0,0,0,0,0,1,0,1,0,0,1,0])\n",
    "ans = pred.predict([x])\n",
    "print(ans[0])"
   ]
  },
  {
   "cell_type": "code",
   "execution_count": 71,
   "metadata": {},
   "outputs": [
    {
     "name": "stderr",
     "output_type": "stream",
     "text": [
      "C:\\Users\\Rahul Kumar\\Anaconda3\\lib\\site-packages\\sklearn\\externals\\joblib\\__init__.py:15: DeprecationWarning: sklearn.externals.joblib is deprecated in 0.21 and will be removed in 0.23. Please import this functionality directly from joblib, which can be installed with: pip install joblib. If this warning is raised when loading pickled models, you may need to re-serialize those models with scikit-learn 0.21+.\n",
      "  warnings.warn(msg, category=DeprecationWarning)\n"
     ]
    },
    {
     "data": {
      "text/plain": [
       "['finalmodel_joblib']"
      ]
     },
     "execution_count": 71,
     "metadata": {},
     "output_type": "execute_result"
    }
   ],
   "source": [
    "# from sklearn.externals import joblib\n",
    "# joblib.dump(bc, 'finalmodel_joblib')"
   ]
  },
  {
   "cell_type": "code",
   "execution_count": null,
   "metadata": {},
   "outputs": [],
   "source": []
  }
 ],
 "metadata": {
  "kernelspec": {
   "display_name": "Python 3",
   "language": "python",
   "name": "python3"
  },
  "language_info": {
   "codemirror_mode": {
    "name": "ipython",
    "version": 3
   },
   "file_extension": ".py",
   "mimetype": "text/x-python",
   "name": "python",
   "nbconvert_exporter": "python",
   "pygments_lexer": "ipython3",
   "version": "3.7.4"
  }
 },
 "nbformat": 4,
 "nbformat_minor": 2
}
